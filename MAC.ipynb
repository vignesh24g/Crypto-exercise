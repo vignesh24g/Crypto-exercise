{
 "cells": [
  {
   "cell_type": "code",
   "execution_count": 48,
   "metadata": {},
   "outputs": [],
   "source": [
    "import random\n",
    "keys=[]"
   ]
  },
  {
   "cell_type": "code",
   "execution_count": 49,
   "metadata": {},
   "outputs": [],
   "source": [
    "def Gen(klen):                                  #Takes in key length as input\n",
    "    global keys                                 #If key length=k, 2**k keys are possible\n",
    "    for i in range(0,2**klen):                  #For every number from 0 to (2**klen)-1\n",
    "        key=str(bin(i).replace(\"0b\",\"\"))        #Binary equivalent is calculated\n",
    "        key='0'*(klen-len(key))+key             #Zeroes added to maintain key length\n",
    "        keys.append(key)                        #Appended to the key list\n",
    "    k=random.choice(keys)                       #Random key selected from the key list\n",
    "    return k      "
   ]
  },
  {
   "cell_type": "code",
   "execution_count": 50,
   "metadata": {},
   "outputs": [],
   "source": [
    "def Mac(k,m,tlen):                              #Takes in k, m & tag length as input\n",
    "    mk=m+k                                      #message and key concatenated\n",
    "    mk=int(mk,2)                                #Decimal equivalent is calculated\n",
    "    t=mk%(2**tlen)                              #Calculation of tag \n",
    "    t=str(bin(t).replace(\"0b\",\"\"))              #Binary equivalent is calculated\n",
    "    t='0'*(tlen-len(t))+t                       #Zeroes added to maintain tag length\n",
    "    return t                                    #Generated tag is returned\n"
   ]
  },
  {
   "cell_type": "code",
   "execution_count": 51,
   "metadata": {},
   "outputs": [],
   "source": [
    "def Sender():\n",
    "    global m,k,t,klen,tlen,keys\n",
    "    keys=[]\n",
    "    f=\"-\"*50\n",
    "    s=\" \"*18\n",
    "    print()\n",
    "    print(f,\"\\n\")\n",
    "    print(s,\"Sender's side\",s)\n",
    "    m=input(\"\\nEnter the message:\\t\")           #Getting input message from the sender \n",
    "    klen=int(input(\"Enter length of key:\\t\"))   #Getting the key length\n",
    "    k=Gen(klen)                                 #Passing klen to the Gen() function\n",
    "    tlen=int(input(\"Enter length of mac-code:\\t\"))   #Getting the tag length\n",
    "    t=Mac(k,m,tlen)                             #Passing tlen to the Mac() function\n",
    "    print()\n",
    "    print(\"Msg:\",m,\"\\t|\\tKey:\",k,\"\\t|\\tmac-code:\",t)           #Displaying the key and tag \n"
   ]
  },
  {
   "cell_type": "code",
   "execution_count": 52,
   "metadata": {},
   "outputs": [
    {
     "name": "stdout",
     "output_type": "stream",
     "text": [
      "\n",
      "-------------------------------------------------- \n",
      "\n",
      "                   Sender's side                   \n",
      "\n",
      "Msg: 1110011 \t|\tKey: 10000001 \t|\tmac-code: 10000001\n"
     ]
    }
   ],
   "source": [
    "Sender()"
   ]
  },
  {
   "cell_type": "code",
   "execution_count": 53,
   "metadata": {},
   "outputs": [],
   "source": [
    "def verifier(m,t,keys):                                             \n",
    "    print(\"Msg:\",m,\"\\t|\\tKey:\",keys,\"\\t|\\tmac-code:\",t)           #Displaying the key and tag \n",
    "    if Mac(keys,m,len(t))==t:\n",
    "        print(\"\\t\\tSuccess\")               \n",
    "    else:\n",
    "        print(\"\\t\\tFailed\")                     \n",
    "                                       "
   ]
  },
  {
   "cell_type": "code",
   "execution_count": 54,
   "metadata": {},
   "outputs": [],
   "source": [
    "def receiver():\n",
    "    global m,t                                  #Receiver knows the message and the tag,key\n",
    "    f=\"-\"*50\n",
    "    s=\" \"*17\n",
    "    print()\n",
    "    print(f,\"\\n\")\n",
    "    print(s,\"Receiver's side\",s)\n",
    "    print()\n",
    "    m=input(\"\\nEnter the message:\\t\") \n",
    "    k=input(\"\\nEnter the key:\\t\") \n",
    "    t=input(\"\\nEnter the mac-code:\\t\") \n",
    "    verifier(m,t,k)                                 \n",
    "    print()\n",
    "    print(f)"
   ]
  },
  {
   "cell_type": "code",
   "execution_count": 55,
   "metadata": {},
   "outputs": [
    {
     "name": "stdout",
     "output_type": "stream",
     "text": [
      "\n",
      "-------------------------------------------------- \n",
      "\n",
      "                  Receiver's side                  \n",
      "\n",
      "Msg: 1110011 \t|\tKey: 10000001 \t|\tmac-code: 10000001\n",
      "\t\tSuccess\n",
      "\n",
      "--------------------------------------------------\n"
     ]
    }
   ],
   "source": [
    "receiver()"
   ]
  },
  {
   "cell_type": "code",
   "execution_count": null,
   "metadata": {},
   "outputs": [],
   "source": []
  }
 ],
 "metadata": {
  "interpreter": {
   "hash": "a9cff5a362bc38ef45d817ae74b1af54d6a076e3d773891282bce078b815ba34"
  },
  "kernelspec": {
   "display_name": "Python 3.10.4 64-bit",
   "language": "python",
   "name": "python3"
  },
  "language_info": {
   "codemirror_mode": {
    "name": "ipython",
    "version": 3
   },
   "file_extension": ".py",
   "mimetype": "text/x-python",
   "name": "python",
   "nbconvert_exporter": "python",
   "pygments_lexer": "ipython3",
   "version": "3.10.4"
  },
  "orig_nbformat": 4
 },
 "nbformat": 4,
 "nbformat_minor": 2
}
